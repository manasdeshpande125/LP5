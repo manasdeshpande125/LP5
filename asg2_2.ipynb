{
 "cells": [
  {
   "cell_type": "code",
   "execution_count": 2,
   "metadata": {},
   "outputs": [],
   "source": [
    "import pandas as pd\n",
    "import numpy as np\n",
    "from sklearn.model_selection import train_test_split\n",
    "from tensorflow.keras.preprocessing.text import Tokenizer\n",
    "from tensorflow.keras.preprocessing.sequence import pad_sequences\n",
    "from tensorflow.keras.models import Sequential\n",
    "from tensorflow.keras.layers import Embedding, Flatten, Dense, Dropout\n",
    "from sklearn.metrics import accuracy_score"
   ]
  },
  {
   "cell_type": "code",
   "execution_count": 4,
   "metadata": {},
   "outputs": [],
   "source": [
    "df = pd.read_csv(\"IMDB Dataset.csv\")\n",
    "\n"
   ]
  },
  {
   "cell_type": "code",
   "execution_count": 5,
   "metadata": {},
   "outputs": [
    {
     "data": {
      "text/html": [
       "<div>\n",
       "<style scoped>\n",
       "    .dataframe tbody tr th:only-of-type {\n",
       "        vertical-align: middle;\n",
       "    }\n",
       "\n",
       "    .dataframe tbody tr th {\n",
       "        vertical-align: top;\n",
       "    }\n",
       "\n",
       "    .dataframe thead th {\n",
       "        text-align: right;\n",
       "    }\n",
       "</style>\n",
       "<table border=\"1\" class=\"dataframe\">\n",
       "  <thead>\n",
       "    <tr style=\"text-align: right;\">\n",
       "      <th></th>\n",
       "      <th>review</th>\n",
       "      <th>sentiment</th>\n",
       "    </tr>\n",
       "  </thead>\n",
       "  <tbody>\n",
       "    <tr>\n",
       "      <th>0</th>\n",
       "      <td>One of the other reviewers has mentioned that ...</td>\n",
       "      <td>positive</td>\n",
       "    </tr>\n",
       "    <tr>\n",
       "      <th>1</th>\n",
       "      <td>A wonderful little production. &lt;br /&gt;&lt;br /&gt;The...</td>\n",
       "      <td>positive</td>\n",
       "    </tr>\n",
       "    <tr>\n",
       "      <th>2</th>\n",
       "      <td>I thought this was a wonderful way to spend ti...</td>\n",
       "      <td>positive</td>\n",
       "    </tr>\n",
       "    <tr>\n",
       "      <th>3</th>\n",
       "      <td>Basically there's a family where a little boy ...</td>\n",
       "      <td>negative</td>\n",
       "    </tr>\n",
       "    <tr>\n",
       "      <th>4</th>\n",
       "      <td>Petter Mattei's \"Love in the Time of Money\" is...</td>\n",
       "      <td>positive</td>\n",
       "    </tr>\n",
       "  </tbody>\n",
       "</table>\n",
       "</div>"
      ],
      "text/plain": [
       "                                              review sentiment\n",
       "0  One of the other reviewers has mentioned that ...  positive\n",
       "1  A wonderful little production. <br /><br />The...  positive\n",
       "2  I thought this was a wonderful way to spend ti...  positive\n",
       "3  Basically there's a family where a little boy ...  negative\n",
       "4  Petter Mattei's \"Love in the Time of Money\" is...  positive"
      ]
     },
     "execution_count": 5,
     "metadata": {},
     "output_type": "execute_result"
    }
   ],
   "source": [
    "df.head()"
   ]
  },
  {
   "cell_type": "code",
   "execution_count": 14,
   "metadata": {},
   "outputs": [],
   "source": [
    "# Split the dataset into train and test sets\n",
    "train_texts, test_texts, train_labels, test_labels = train_test_split(df['review'], df['sentiment'], test_size=0.2, random_state=42)"
   ]
  },
  {
   "cell_type": "code",
   "execution_count": 22,
   "metadata": {},
   "outputs": [],
   "source": [
    "# Convert string labels to numerical labels\n",
    "train_labels = train_labels.replace({'negative': 0, 'positive': 1})\n",
    "test_labels = test_labels.replace({'negative': 0, 'positive': 1})"
   ]
  },
  {
   "cell_type": "code",
   "execution_count": 23,
   "metadata": {},
   "outputs": [],
   "source": [
    "# Tokenize the text\n",
    "num_words = 10000\n",
    "tokenizer = Tokenizer(num_words=num_words)\n",
    "tokenizer.fit_on_texts(train_texts)"
   ]
  },
  {
   "cell_type": "code",
   "execution_count": 24,
   "metadata": {},
   "outputs": [],
   "source": [
    "# Convert text data to sequences\n",
    "train_sequences = tokenizer.texts_to_sequences(train_texts)\n",
    "test_sequences = tokenizer.texts_to_sequences(test_texts)"
   ]
  },
  {
   "cell_type": "code",
   "execution_count": 25,
   "metadata": {},
   "outputs": [],
   "source": [
    "# Pad sequences to have the same length\n",
    "max_length = 256\n",
    "train_data = pad_sequences(train_sequences, maxlen=max_length)\n",
    "test_data = pad_sequences(test_sequences, maxlen=max_length)"
   ]
  },
  {
   "cell_type": "code",
   "execution_count": 26,
   "metadata": {},
   "outputs": [],
   "source": [
    "# Define the model\n",
    "model = Sequential([\n",
    "    Embedding(num_words, 16, input_length=max_length),\n",
    "    Flatten(),\n",
    "    Dense(64, activation='relu'),\n",
    "    Dropout(0.5),\n",
    "    Dense(1, activation='sigmoid')\n",
    "])"
   ]
  },
  {
   "cell_type": "code",
   "execution_count": 27,
   "metadata": {},
   "outputs": [],
   "source": [
    "# Compile the model\n",
    "model.compile(optimizer='adam',\n",
    "              loss='binary_crossentropy',\n",
    "              metrics=['accuracy'])"
   ]
  },
  {
   "cell_type": "code",
   "execution_count": 28,
   "metadata": {},
   "outputs": [
    {
     "name": "stdout",
     "output_type": "stream",
     "text": [
      "Epoch 1/10\n",
      "250/250 [==============================] - 4s 12ms/step - loss: 0.4918 - accuracy: 0.7249 - val_loss: 0.2782 - val_accuracy: 0.8815\n",
      "Epoch 2/10\n",
      "250/250 [==============================] - 2s 9ms/step - loss: 0.2102 - accuracy: 0.9193 - val_loss: 0.2798 - val_accuracy: 0.8845\n",
      "Epoch 3/10\n",
      "250/250 [==============================] - 2s 9ms/step - loss: 0.1055 - accuracy: 0.9669 - val_loss: 0.3261 - val_accuracy: 0.8788\n",
      "Epoch 4/10\n",
      "250/250 [==============================] - 2s 9ms/step - loss: 0.0414 - accuracy: 0.9905 - val_loss: 0.3935 - val_accuracy: 0.8780\n",
      "Epoch 5/10\n",
      "250/250 [==============================] - 2s 8ms/step - loss: 0.0141 - accuracy: 0.9983 - val_loss: 0.4628 - val_accuracy: 0.8744\n",
      "Epoch 6/10\n",
      "250/250 [==============================] - 2s 8ms/step - loss: 0.0057 - accuracy: 0.9997 - val_loss: 0.5236 - val_accuracy: 0.8734\n",
      "Epoch 7/10\n",
      "250/250 [==============================] - 2s 8ms/step - loss: 0.0029 - accuracy: 0.9999 - val_loss: 0.5563 - val_accuracy: 0.8749\n",
      "Epoch 8/10\n",
      "250/250 [==============================] - 2s 9ms/step - loss: 0.0018 - accuracy: 0.9999 - val_loss: 0.5891 - val_accuracy: 0.8734\n",
      "Epoch 9/10\n",
      "250/250 [==============================] - 2s 10ms/step - loss: 0.0011 - accuracy: 1.0000 - val_loss: 0.6177 - val_accuracy: 0.8740\n",
      "Epoch 10/10\n",
      "250/250 [==============================] - 2s 10ms/step - loss: 8.5435e-04 - accuracy: 1.0000 - val_loss: 0.6438 - val_accuracy: 0.8751\n"
     ]
    },
    {
     "data": {
      "text/plain": [
       "<keras.src.callbacks.History at 0x171cb781de0>"
      ]
     },
     "execution_count": 28,
     "metadata": {},
     "output_type": "execute_result"
    }
   ],
   "source": [
    "# Train the model\n",
    "batch_size = 128\n",
    "epochs = 10\n",
    "model.fit(train_data, train_labels, batch_size=batch_size, epochs=epochs, validation_split=0.2)"
   ]
  },
  {
   "cell_type": "code",
   "execution_count": 29,
   "metadata": {},
   "outputs": [
    {
     "name": "stdout",
     "output_type": "stream",
     "text": [
      "313/313 [==============================] - 1s 1ms/step\n",
      "Test accuracy: 0.8799\n"
     ]
    }
   ],
   "source": [
    "# Evaluate the model\n",
    "predictions = model.predict(test_data)\n",
    "predictions = np.where(predictions > 0.5, 1, 0)\n",
    "test_acc = accuracy_score(test_labels, predictions)\n",
    "print(\"Test accuracy:\", test_acc)"
   ]
  },
  {
   "cell_type": "markdown",
   "metadata": {},
   "source": [
    "No Need to do the below. It conveys nothing"
   ]
  },
  {
   "cell_type": "code",
   "execution_count": 32,
   "metadata": {},
   "outputs": [
    {
     "name": "stdout",
     "output_type": "stream",
     "text": [
      "Epoch 1/10\n",
      "250/250 [==============================] - 3s 13ms/step - loss: 3.8906e-04 - accuracy: 1.0000 - val_loss: 0.6979 - val_accuracy: 0.8760\n",
      "Epoch 2/10\n",
      "250/250 [==============================] - 3s 10ms/step - loss: 3.7280e-04 - accuracy: 1.0000 - val_loss: 0.7100 - val_accuracy: 0.8755\n",
      "Epoch 3/10\n",
      "250/250 [==============================] - 3s 12ms/step - loss: 2.6690e-04 - accuracy: 1.0000 - val_loss: 0.7309 - val_accuracy: 0.8761\n",
      "Epoch 4/10\n",
      "250/250 [==============================] - 3s 11ms/step - loss: 2.2883e-04 - accuracy: 1.0000 - val_loss: 0.7481 - val_accuracy: 0.8749\n",
      "Epoch 5/10\n",
      "250/250 [==============================] - 3s 11ms/step - loss: 1.8762e-04 - accuracy: 1.0000 - val_loss: 0.7651 - val_accuracy: 0.8739\n",
      "Epoch 6/10\n",
      "250/250 [==============================] - 3s 10ms/step - loss: 1.6114e-04 - accuracy: 1.0000 - val_loss: 0.7796 - val_accuracy: 0.8765\n",
      "Epoch 7/10\n",
      "250/250 [==============================] - 3s 12ms/step - loss: 1.2253e-04 - accuracy: 1.0000 - val_loss: 0.7975 - val_accuracy: 0.8739\n",
      "Epoch 8/10\n",
      "250/250 [==============================] - 3s 12ms/step - loss: 1.0711e-04 - accuracy: 1.0000 - val_loss: 0.8104 - val_accuracy: 0.8758\n",
      "Epoch 9/10\n",
      "250/250 [==============================] - 3s 12ms/step - loss: 9.1931e-05 - accuracy: 1.0000 - val_loss: 0.8254 - val_accuracy: 0.8751\n",
      "Epoch 10/10\n",
      "250/250 [==============================] - 3s 10ms/step - loss: 7.5505e-05 - accuracy: 1.0000 - val_loss: 0.8451 - val_accuracy: 0.8730\n"
     ]
    },
    {
     "data": {
      "image/png": "[encoded data removed]",
      "text/plain": [
       "<Figure size 640x480 with 1 Axes>"
      ]
     },
     "metadata": {},
     "output_type": "display_data"
    }
   ],
   "source": [
    "import matplotlib.pyplot as plt\n",
    "\n",
    "# Train the model\n",
    "history = model.fit(train_data, train_labels, batch_size=batch_size, epochs=epochs, validation_split=0.2)\n",
    "\n",
    "# Plot training and validation accuracy\n",
    "plt.plot(history.history['accuracy'], label='Training Accuracy')\n",
    "plt.plot(history.history['val_accuracy'], label='Validation Accuracy')\n",
    "plt.title('Training and Validation Accuracy')\n",
    "plt.xlabel('Epoch')\n",
    "plt.ylabel('Accuracy')\n",
    "plt.legend()\n",
    "plt.show()"
   ]
  },
  {
   "cell_type": "code",
   "execution_count": 33,
   "metadata": {},
   "outputs": [
    {
     "data": {
      "image/png": "[encoded data removed]",
      "text/plain": [
       "<Figure size 640x480 with 1 Axes>"
      ]
     },
     "metadata": {},
     "output_type": "display_data"
    }
   ],
   "source": [
    "# Plot training and validation loss\n",
    "plt.plot(history.history['loss'], label='Training Loss')\n",
    "plt.plot(history.history['val_loss'], label='Validation Loss')\n",
    "plt.title('Training and Validation Loss')\n",
    "plt.xlabel('Epoch')\n",
    "plt.ylabel('Loss')\n",
    "plt.legend()\n",
    "plt.show()"
   ]
  },
  {
   "cell_type": "code",
   "execution_count": null,
   "metadata": {},
   "outputs": [],
   "source": []
  }
 ],
 "metadata": {
  "kernelspec": {
   "display_name": "Python 3",
   "language": "python",
   "name": "python3"
  },
  "language_info": {
   "codemirror_mode": {
    "name": "ipython",
    "version": 3
   },
   "file_extension": ".py",
   "mimetype": "text/x-python",
   "name": "python",
   "nbconvert_exporter": "python",
   "pygments_lexer": "ipython3",
   "version": "3.10.0"
  }
 },
 "nbformat": 4,
 "nbformat_minor": 2
}
