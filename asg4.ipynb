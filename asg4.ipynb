{
 "cells": [
  {
   "cell_type": "code",
   "execution_count": 1,
   "metadata": {},
   "outputs": [],
   "source": [
    "import pandas as pd\n",
    "import numpy as np\n",
    "from sklearn.preprocessing import MinMaxScaler\n",
    "from keras.models import Sequential\n",
    "from keras.layers import Dense, LSTM\n",
    "from sklearn.metrics import mean_absolute_error, mean_squared_error\n",
    "import tensorflow as tf\n",
    "tf.config.run_functions_eagerly(True)"
   ]
  },
  {
   "cell_type": "code",
   "execution_count": 2,
   "metadata": {},
   "outputs": [],
   "source": [
    "# Step 1: Data Preparation\n",
    "data = pd.read_csv('goog1.csv')\n",
    "scaler = MinMaxScaler(feature_range=(0, 1))\n",
    "scaled_data = scaler.fit_transform(data['Close'].values.reshape(-1, 1))"
   ]
  },
  {
   "cell_type": "code",
   "execution_count": 3,
   "metadata": {},
   "outputs": [],
   "source": [
    "# Step 2: Dataset Splitting\n",
    "train_data = scaled_data[:int(len(scaled_data) * 0.8)]\n",
    "test_data = scaled_data[int(len(scaled_data) * 0.8):]"
   ]
  },
  {
   "cell_type": "code",
   "execution_count": 4,
   "metadata": {},
   "outputs": [],
   "source": [
    "# Step 3: Data Sequencing\n",
    "def create_sequences(data, time_steps=6):\n",
    "    X = []\n",
    "    y = []\n",
    "    for i in range(len(data) - time_steps):\n",
    "        X.append(data[i:i+time_steps, 0])\n",
    "        y.append(data[i+time_steps, 0])\n",
    "    return np.array(X), np.array(y)"
   ]
  },
  {
   "cell_type": "code",
   "execution_count": 5,
   "metadata": {},
   "outputs": [],
   "source": [
    "X_train, y_train = create_sequences(train_data)\n",
    "X_test, y_test = create_sequences(test_data)"
   ]
  },
  {
   "cell_type": "code",
   "execution_count": 6,
   "metadata": {},
   "outputs": [
    {
     "name": "stderr",
     "output_type": "stream",
     "text": [
      "c:\\Users\\Admin\\AppData\\Local\\Programs\\Python\\Python310\\lib\\site-packages\\tensorflow\\python\\data\\ops\\structured_function.py:258: UserWarning: Even though the `tf.config.experimental_run_functions_eagerly` option is set, this option does not apply to tf.data functions. To force eager execution of tf.data functions, please use `tf.data.experimental.enable_debug_mode()`.\n",
      "  warnings.warn(\n"
     ]
    },
    {
     "name": "stdout",
     "output_type": "stream",
     "text": [
      "Epoch 1/50\n",
      "11/11 [==============================] - 5s 448ms/step - loss: 0.1674\n",
      "Epoch 2/50\n",
      "11/11 [==============================] - 4s 394ms/step - loss: 0.0363\n",
      "Epoch 3/50\n",
      "11/11 [==============================] - 2s 136ms/step - loss: 0.0285\n",
      "Epoch 4/50\n",
      "11/11 [==============================] - 1s 128ms/step - loss: 0.0279\n",
      "Epoch 5/50\n",
      "11/11 [==============================] - 1s 129ms/step - loss: 0.0234\n",
      "Epoch 6/50\n",
      "11/11 [==============================] - 1s 83ms/step - loss: 0.0240\n",
      "Epoch 7/50\n",
      "11/11 [==============================] - 1s 62ms/step - loss: 0.0242\n",
      "Epoch 8/50\n",
      "11/11 [==============================] - 1s 52ms/step - loss: 0.0245\n",
      "Epoch 9/50\n",
      "11/11 [==============================] - 1s 59ms/step - loss: 0.0231\n",
      "Epoch 10/50\n",
      "11/11 [==============================] - 1s 55ms/step - loss: 0.0246\n",
      "Epoch 11/50\n",
      "11/11 [==============================] - 1s 50ms/step - loss: 0.0234\n",
      "Epoch 12/50\n",
      "11/11 [==============================] - 1s 51ms/step - loss: 0.0226\n",
      "Epoch 13/50\n",
      "11/11 [==============================] - 1s 59ms/step - loss: 0.0230\n",
      "Epoch 14/50\n",
      "11/11 [==============================] - 1s 61ms/step - loss: 0.0237\n",
      "Epoch 15/50\n",
      "11/11 [==============================] - 1s 48ms/step - loss: 0.0250\n",
      "Epoch 16/50\n",
      "11/11 [==============================] - 1s 93ms/step - loss: 0.0217\n",
      "Epoch 17/50\n",
      "11/11 [==============================] - 1s 67ms/step - loss: 0.0219\n",
      "Epoch 18/50\n",
      "11/11 [==============================] - 1s 63ms/step - loss: 0.0233\n",
      "Epoch 19/50\n",
      "11/11 [==============================] - 1s 61ms/step - loss: 0.0204\n",
      "Epoch 20/50\n",
      "11/11 [==============================] - 1s 55ms/step - loss: 0.0222\n",
      "Epoch 21/50\n",
      "11/11 [==============================] - 1s 49ms/step - loss: 0.0216\n",
      "Epoch 22/50\n",
      "11/11 [==============================] - 1s 57ms/step - loss: 0.0211\n",
      "Epoch 23/50\n",
      "11/11 [==============================] - 1s 54ms/step - loss: 0.0230\n",
      "Epoch 24/50\n",
      "11/11 [==============================] - 1s 56ms/step - loss: 0.0205\n",
      "Epoch 25/50\n",
      "11/11 [==============================] - 1s 52ms/step - loss: 0.0201\n",
      "Epoch 26/50\n",
      "11/11 [==============================] - 1s 58ms/step - loss: 0.0202\n",
      "Epoch 27/50\n",
      "11/11 [==============================] - 1s 56ms/step - loss: 0.0198\n",
      "Epoch 28/50\n",
      "11/11 [==============================] - 1s 56ms/step - loss: 0.0192\n",
      "Epoch 29/50\n",
      "11/11 [==============================] - 1s 58ms/step - loss: 0.0190\n",
      "Epoch 30/50\n",
      "11/11 [==============================] - 1s 55ms/step - loss: 0.0180\n",
      "Epoch 31/50\n",
      "11/11 [==============================] - 1s 50ms/step - loss: 0.0173\n",
      "Epoch 32/50\n",
      "11/11 [==============================] - 1s 57ms/step - loss: 0.0171\n",
      "Epoch 33/50\n",
      "11/11 [==============================] - 1s 64ms/step - loss: 0.0166\n",
      "Epoch 34/50\n",
      "11/11 [==============================] - 1s 56ms/step - loss: 0.0194\n",
      "Epoch 35/50\n",
      "11/11 [==============================] - 1s 55ms/step - loss: 0.0173\n",
      "Epoch 36/50\n",
      "11/11 [==============================] - 1s 54ms/step - loss: 0.0162\n",
      "Epoch 37/50\n",
      "11/11 [==============================] - 1s 53ms/step - loss: 0.0146\n",
      "Epoch 38/50\n",
      "11/11 [==============================] - 1s 50ms/step - loss: 0.0144\n",
      "Epoch 39/50\n",
      "11/11 [==============================] - 1s 46ms/step - loss: 0.0163\n",
      "Epoch 40/50\n",
      "11/11 [==============================] - 1s 49ms/step - loss: 0.0181\n",
      "Epoch 41/50\n",
      "11/11 [==============================] - 0s 45ms/step - loss: 0.0162\n",
      "Epoch 42/50\n",
      "11/11 [==============================] - 0s 43ms/step - loss: 0.0119\n",
      "Epoch 43/50\n",
      "11/11 [==============================] - 0s 43ms/step - loss: 0.0124\n",
      "Epoch 44/50\n",
      "11/11 [==============================] - 1s 47ms/step - loss: 0.0118\n",
      "Epoch 45/50\n",
      "11/11 [==============================] - 1s 54ms/step - loss: 0.0122\n",
      "Epoch 46/50\n",
      "11/11 [==============================] - 1s 50ms/step - loss: 0.0111\n",
      "Epoch 47/50\n",
      "11/11 [==============================] - 0s 45ms/step - loss: 0.0110\n",
      "Epoch 48/50\n",
      "11/11 [==============================] - 1s 46ms/step - loss: 0.0105\n",
      "Epoch 49/50\n",
      "11/11 [==============================] - 1s 46ms/step - loss: 0.0102\n",
      "Epoch 50/50\n",
      "11/11 [==============================] - 0s 43ms/step - loss: 0.0101\n"
     ]
    },
    {
     "data": {
      "text/plain": [
       "<keras.src.callbacks.History at 0x197fa1ed660>"
      ]
     },
     "execution_count": 6,
     "metadata": {},
     "output_type": "execute_result"
    }
   ],
   "source": [
    "# Step 4: Model Training\n",
    "model = Sequential()\n",
    "model.add(LSTM(units=50, return_sequences=True, input_shape=(X_train.shape[1], 1)))\n",
    "model.add(LSTM(units=50))\n",
    "model.add(Dense(units=1))\n",
    "model.compile(optimizer='adam', loss='mean_squared_error')\n",
    "model.fit(X_train, y_train, epochs=50, batch_size=4)"
   ]
  },
  {
   "cell_type": "code",
   "execution_count": 7,
   "metadata": {},
   "outputs": [
    {
     "name": "stdout",
     "output_type": "stream",
     "text": [
      "1/1 [==============================] - 0s 42ms/step\n"
     ]
    }
   ],
   "source": [
    "y_pred = model.predict(X_test)\n",
    "y_pred = scaler.inverse_transform(y_pred)\n",
    "y_test = scaler.inverse_transform(y_test.reshape(-1, 1))"
   ]
  },
  {
   "cell_type": "code",
   "execution_count": 8,
   "metadata": {},
   "outputs": [
    {
     "name": "stdout",
     "output_type": "stream",
     "text": [
      "MAE:  15.16083629296874\n",
      "MSE:  235.1993598646824\n",
      "RMSE:  15.336210740097517\n"
     ]
    }
   ],
   "source": [
    "mae = mean_absolute_error(y_test, y_pred)\n",
    "mse = mean_squared_error(y_test, y_pred)\n",
    "rmse = np.sqrt(mse)\n",
    "print('MAE: ', mae)\n",
    "print('MSE: ', mse)\n",
    "print('RMSE: ', rmse)"
   ]
  },
  {
   "cell_type": "code",
   "execution_count": 9,
   "metadata": {},
   "outputs": [],
   "source": [
    "# Step 6: Prediction\n",
    "last_6_days = data['Close'][-6:].values\n",
    "last_6_days_scaled = scaler.transform(last_6_days.reshape(-1, 1))\n",
    "X_pred = []\n",
    "X_pred.append(last_6_days_scaled)\n",
    "X_pred = np.array(X_pred)\n",
    "X_pred = np.reshape(X_pred, (X_pred.shape[0], X_pred.shape[1], 1))"
   ]
  },
  {
   "cell_type": "code",
   "execution_count": 10,
   "metadata": {},
   "outputs": [
    {
     "name": "stdout",
     "output_type": "stream",
     "text": [
      "1/1 [==============================] - 0s 44ms/step\n",
      "Predicted price for the next day:  [[833.7744]]\n"
     ]
    },
    {
     "name": "stderr",
     "output_type": "stream",
     "text": [
      "c:\\Users\\Admin\\AppData\\Local\\Programs\\Python\\Python310\\lib\\site-packages\\tensorflow\\python\\data\\ops\\structured_function.py:258: UserWarning: Even though the `tf.config.experimental_run_functions_eagerly` option is set, this option does not apply to tf.data functions. To force eager execution of tf.data functions, please use `tf.data.experimental.enable_debug_mode()`.\n",
      "  warnings.warn(\n"
     ]
    }
   ],
   "source": [
    "pred_price = model.predict(X_pred)\n",
    "pred_price = scaler.inverse_transform(pred_price)\n",
    "print('Predicted price for the next day: ', pred_price)"
   ]
  },
  {
   "cell_type": "code",
   "execution_count": 11,
   "metadata": {},
   "outputs": [
    {
     "data": {
      "image/png": "[encoded data removed]",
      "text/plain": [
       "<Figure size 640x480 with 1 Axes>"
      ]
     },
     "metadata": {},
     "output_type": "display_data"
    }
   ],
   "source": [
    "import matplotlib.pyplot as plt\n",
    "\n",
    "# Plotting the original test data\n",
    "plt.plot(y_test, label='Actual Price')\n",
    "\n",
    "# Plotting the predicted prices\n",
    "plt.plot(y_pred, label='Predicted Price')\n",
    "\n",
    "plt.title('Actual vs Predicted Price')\n",
    "plt.xlabel('Time')\n",
    "plt.ylabel('Price')\n",
    "plt.legend()\n",
    "plt.grid(True)\n",
    "plt.show()"
   ]
  },
  {
   "cell_type": "code",
   "execution_count": null,
   "metadata": {},
   "outputs": [],
   "source": []
  }
 ],
 "metadata": {
  "kernelspec": {
   "display_name": "Python 3",
   "language": "python",
   "name": "python3"
  },
  "language_info": {
   "codemirror_mode": {
    "name": "ipython",
    "version": 3
   },
   "file_extension": ".py",
   "mimetype": "text/x-python",
   "name": "python",
   "nbconvert_exporter": "python",
   "pygments_lexer": "ipython3",
   "version": "3.10.0"
  }
 },
 "nbformat": 4,
 "nbformat_minor": 2
}
